{
 "cells": [
  {
   "cell_type": "code",
   "execution_count": 10,
   "metadata": {},
   "outputs": [
    {
     "name": "stdout",
     "output_type": "stream",
     "text": [
      "입력한 내용: ㅇ?\n",
      "입력한 내용: ㅇ\n",
      "입력한 내용: ㅇ\n",
      "입력한 내용: ㅇ\n",
      "입력한 내용: ㅇ\n",
      "입력한 내용: ㄴ머ㅏ로ㅓㄴㅇ러ㅏ\n",
      "입력한 내용: 병신새끼!\n",
      "프로그램을 종료합니다.\n"
     ]
    }
   ],
   "source": [
    "# 1. while 루프를 사용하여 사용자가 '종료'를 입력할 때까지 계속해서 사용자의 입력을 받고 출력하는 프로그램을 작성하세요.\n",
    "while True:\n",
    "    user_input = input(\"종료라고 말해!!!!!!\")\n",
    "    if user_input == '종료':\n",
    "        print(\"프로그램을 종료합니다.\")\n",
    "        break\n",
    "    print(f\"입력한 내용: {user_input}\")\n",
    "    "
   ]
  },
  {
   "cell_type": "code",
   "execution_count": 13,
   "metadata": {},
   "outputs": [
    {
     "name": "stdout",
     "output_type": "stream",
     "text": [
      "반복 3 번째 : i 의 값 2\n",
      "반복 5 번째 : i 의 값 4\n",
      "반복 7 번째 : i 의 값 6\n",
      "반복 9 번째 : i 의 값 8\n",
      "반복 11 번째 : i 의 값 10\n",
      "반복 13 번째 : i 의 값 12\n",
      "반복 15 번째 : i 의 값 14\n",
      "반복 17 번째 : i 의 값 16\n",
      "반복 19 번째 : i 의 값 18\n",
      "반복 21 번째 : i 의 값 20\n"
     ]
    }
   ],
   "source": [
    "# 2. for 루프와 range() 함수를 사용하여 1부터 20까지의 짝수만 출력하는 프로그램을 작성하세요.\n",
    "for i in range(2,21,2):\n",
    "    print(f'반복 {i+1} 번째 : i 의 값 {i}')\n"
   ]
  },
  {
   "cell_type": "code",
   "execution_count": 17,
   "metadata": {},
   "outputs": [
    {
     "name": "stdout",
     "output_type": "stream",
     "text": [
      "4\n"
     ]
    }
   ],
   "source": [
    "# 3. 다음 리스트에서 각 동물의 이름과 글자 수를 출력하는 프로그램을 작성하세요:\n",
    "animals = ['고양이', '강아지', '코끼리', '기린']\n",
    "for animal in animals:\n",
    "    print(f\"{animal}: {len(animal)}글자\")"
   ]
  }
 ],
 "metadata": {
  "kernelspec": {
   "display_name": "pylecture_env",
   "language": "python",
   "name": "python3"
  },
  "language_info": {
   "codemirror_mode": {
    "name": "ipython",
    "version": 3
   },
   "file_extension": ".py",
   "mimetype": "text/x-python",
   "name": "python",
   "nbconvert_exporter": "python",
   "pygments_lexer": "ipython3",
   "version": "3.12.7"
  }
 },
 "nbformat": 4,
 "nbformat_minor": 2
}
