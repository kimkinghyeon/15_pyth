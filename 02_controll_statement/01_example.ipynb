{
 "cells": [
  {
   "cell_type": "code",
   "execution_count": 21,
   "metadata": {},
   "outputs": [
    {
     "name": "stdout",
     "output_type": "stream",
     "text": [
      "C\n"
     ]
    }
   ],
   "source": [
    "# 시험 점수를 입력받아 학점을 출력하는 프로그램을 작성하세요.\n",
    "# 90점 이상: A\n",
    "# 80점 이상 90점 미만: B\n",
    "# 70점 이상 80점 미만: C\n",
    "# 60점 이상 70점 미만: D\n",
    "# 60점 미만: F\n",
    "\n",
    "점수 = int(input(\"시험 점수를 입력하세요: \"))\n",
    "\n",
    "if 점수 <= 60:\n",
    "    print('F')\n",
    "elif 점수 <= 70:\n",
    "    print('D')\n",
    "elif 점수 <= 80:\n",
    "    print('C')\n",
    "elif 점수 <= 90:\n",
    "    print('B')\n",
    "elif 점수 >= 90:\n",
    "    print('A')"
   ]
  },
  {
   "cell_type": "code",
   "execution_count": 29,
   "metadata": {},
   "outputs": [
    {
     "name": "stdout",
     "output_type": "stream",
     "text": [
      "1 일 월요일\n"
     ]
    }
   ],
   "source": [
    "# 1부터 7까지의 숫자를 입력받아 해당하는 요일을 출력하는 프로그램을 작성하세요.\n",
    "# 1: 월요일, 2: 화요일, ..., 7: 일요일\n",
    "# match-case 문을 사용하세요.\n",
    "\n",
    "숫자 = int(input(\"1부터 7까지의 숫자를 입력하세요: \"))\n",
    "\n",
    "match 숫자:\n",
    "    case 1:\n",
    "        print(f'{숫자} 일 월요일')\n",
    "    case 2:\n",
    "        print(f'{숫자} 일 화요일')\n",
    "    case 3:\n",
    "        print(f'{숫자} 일 수요일')\n",
    "    case 4:\n",
    "        print(f'{숫자} 일 목요일')\n",
    "    case 5:\n",
    "        print(f'{숫자} 일 금요일')\n",
    "    case 6:\n",
    "        print(f'{숫자} 일 토요일')\n",
    "    case 7:\n",
    "        print(f'{숫자} 일 일요일')\n"
   ]
  },
  {
   "cell_type": "code",
   "execution_count": 31,
   "metadata": {},
   "outputs": [
    {
     "name": "stdout",
     "output_type": "stream",
     "text": [
      "실패\n"
     ]
    }
   ],
   "source": [
    "# 미리 설정된 아이디와 비밀번호가 있다고 가정합니다.\n",
    "# 사용자로부터 아이디와 비밀번호를 입력받아 로그인 성공 여부를 출력하는 프로그램을 작성하세요.\n",
    "\n",
    "id = \"python\"\n",
    "password = \"1234\"\n",
    "\n",
    "in_id = input(\"아이디를 입력하세요: \")\n",
    "in_pass = input(\"비밀번호를 입력하세요: \")\n",
    "\n",
    "if (id == in_id and password == in_pass):\n",
    "    print('성공')\n",
    "else:\n",
    "    print('실패')"
   ]
  }
 ],
 "metadata": {
  "kernelspec": {
   "display_name": "pylecture_env",
   "language": "python",
   "name": "python3"
  },
  "language_info": {
   "codemirror_mode": {
    "name": "ipython",
    "version": 3
   },
   "file_extension": ".py",
   "mimetype": "text/x-python",
   "name": "python",
   "nbconvert_exporter": "python",
   "pygments_lexer": "ipython3",
   "version": "3.12.7"
  }
 },
 "nbformat": 4,
 "nbformat_minor": 2
}
