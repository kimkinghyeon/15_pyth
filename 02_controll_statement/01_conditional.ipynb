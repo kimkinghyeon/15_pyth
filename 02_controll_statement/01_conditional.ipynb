{
 "cells": [
  {
   "cell_type": "markdown",
   "metadata": {},
   "source": [
    "# 01. 조건문\n",
    "---\n",
    "## 01-01. 조건문의 개요\n",
    "###  01-01-01. 조건문이란?\n",
    "* 조건에 따라 수행할 코드를 다르게 작성하는 방법으로, 파이썬 키워드를 사용하여 작성한다.\n",
    "* 조건문 작성에는 조건식이 필요하며, 조건식은 true 혹은 false의 결과를 내는 구문을 의미함"
   ]
  },
  {
   "cell_type": "code",
   "execution_count": 6,
   "metadata": {},
   "outputs": [
    {
     "name": "stdout",
     "output_type": "stream",
     "text": [
      "my name bear\n"
     ]
    }
   ],
   "source": [
    "# my_name = 'bear'\n",
    "\n",
    "my_name = input()\n",
    "if(my_name == 'bear'):\n",
    "    print(f'my name {my_name}')"
   ]
  },
  {
   "cell_type": "markdown",
   "metadata": {},
   "source": [
    "---\n",
    "## 01-02. 조건문 if\n",
    "### 01-02-01. if\n",
    "* if 키워드 뒤의 조건식의 결과 값이 참(true)이면 실행구문을 실행한다.\n",
    "* 파이썬에서는 조건식 뒤에 콜론을 붙이고 '반드시' 들여쓰기(공백4칸 또는 tap)로 실행구문을 식별할 수 있도록 작성해야한다."
   ]
  },
  {
   "cell_type": "code",
   "execution_count": null,
   "metadata": {},
   "outputs": [],
   "source": [
    "if 조건식:\n",
    "    (실행구문)"
   ]
  },
  {
   "cell_type": "code",
   "execution_count": 7,
   "metadata": {},
   "outputs": [
    {
     "name": "stdout",
     "output_type": "stream",
     "text": [
      "my tehaher not tiger\n"
     ]
    }
   ],
   "source": [
    "my_teacher = 'bear'\n",
    "\n",
    "if my_teacher == 'tiger':\n",
    "        print('my teacher tiger')\n",
    "else:\n",
    "    print('my tehaher is not tiger')"
   ]
  },
  {
   "cell_type": "markdown",
   "metadata": {},
   "source": [
    "elif (if-elif-else)\n",
    "* elif 1개 이상 사용 할 수 있다.\n",
    "* 각각의 경우에 수행할 내용을 구분할 수 있도록 **'반드시'** 들여쓰기를 강제함"
   ]
  },
  {
   "cell_type": "code",
   "execution_count": 8,
   "metadata": {},
   "outputs": [
    {
     "name": "stdout",
     "output_type": "stream",
     "text": [
      "my teacher good bear\n"
     ]
    }
   ],
   "source": [
    "my_teacher = 'bear'\n",
    "\n",
    "if my_teacher == 'tiger':\n",
    "        print('my teacher tiger')\n",
    "elif my_teacher == 'bear':\n",
    "        print('my teacher good bear')\n",
    "else:\n",
    "    print('my tehaher not tiger')"
   ]
  },
  {
   "cell_type": "markdown",
   "metadata": {},
   "source": [
    "---\n",
    "## 01-03 조건문 match\n",
    "### 01-03-01. match-case\n",
    "* 주어진 값을 case 블록의 값과 비교해 일치하는 case만 실행한다."
   ]
  },
  {
   "cell_type": "code",
   "execution_count": 10,
   "metadata": {},
   "outputs": [
    {
     "name": "stdout",
     "output_type": "stream",
     "text": [
      "welcom bear teacherworld\n",
      "day5\n"
     ]
    }
   ],
   "source": [
    "input_teacher = input('만나고싶은 선생님을 입력해주세요.')\n",
    "\n",
    "sleep_time = 0\n",
    "match input_teacher:\n",
    "    case 'tiger':\n",
    "        print('welcom tiger teacherworld')\n",
    "        sleep_time = 3\n",
    "    case 'bear':\n",
    "        print('welcom bear teacherworld')\n",
    "        sleep_time = 5\n",
    "    case _:\n",
    "        print('')\n",
    "print('day ' + str(sleep_time))"
   ]
  },
  {
   "cell_type": "markdown",
   "metadata": {},
   "source": [
    "# 02. 반복문\n",
    "---\n",
    "## 02-01. 반복문 개요\n",
    "### 02-01-01. 반복문이란?\n",
    "* 중복된 코드를 최소화하여 읽기 쉽고 유지보수가 용이한 코드를 작성하기 위해\n",
    "* 일정범위 또는 조건에 부합하는 경우 어떤 코드를 반복 수행하게 하는 구문\n",
    "\n",
    "## 02-02 반복문 for\n",
    "### 02-02-01 for-in\n",
    "* 리스트 , 튜플 , 문자열 등의 각 요소를 순차적으로 접근해 반복 할 수 있다."
   ]
  },
  {
   "cell_type": "code",
   "execution_count": 12,
   "metadata": {},
   "outputs": [
    {
     "name": "stdout",
     "output_type": "stream",
     "text": [
      "pig\n",
      "bear\n",
      "mongkey\n",
      "gorilla\n"
     ]
    }
   ],
   "source": [
    "# 리스트\n",
    "quantum = ['pig','bear','mongkey','gorilla']\n",
    "for teacher in quantum:\n",
    "    print(teacher)"
   ]
  },
  {
   "cell_type": "code",
   "execution_count": 13,
   "metadata": {},
   "outputs": [
    {
     "name": "stdout",
     "output_type": "stream",
     "text": [
      "m\n",
      "o\n",
      "n\n",
      "g\n",
      "k\n",
      "e\n",
      "y\n"
     ]
    }
   ],
   "source": [
    "# 문자열\n",
    "for quantum in 'mongkey':\n",
    "    print(quantum)"
   ]
  },
  {
   "cell_type": "code",
   "execution_count": 18,
   "metadata": {},
   "outputs": [
    {
     "name": "stdout",
     "output_type": "stream",
     "text": [
      "bear : 곰\n",
      "tiger : 호랑이\n",
      "mongkey : 원숭이\n"
     ]
    }
   ],
   "source": [
    "# 딕셔너리\n",
    "# 딕셔너리는 for문을 통해 반복하면 기본적으로 key 값만 가지고 온다.\n",
    "for x,y in {'bear' : '곰','tiger':'호랑이','mongkey':'원숭이'}.items():\n",
    "    print(f'{x} : {y}')"
   ]
  },
  {
   "cell_type": "code",
   "execution_count": 19,
   "metadata": {},
   "outputs": [
    {
     "name": "stdout",
     "output_type": "stream",
     "text": [
      "['ak', 'dk', 'bk', 'ck', 'dk', 'ek']\n"
     ]
    }
   ],
   "source": [
    "word = 'adbcde'\n",
    "# 'ak' 'bk' 'ck' 'dk' 'ek'\n",
    "test = [val + 'k' for val in word]\n",
    "print(test)"
   ]
  },
  {
   "cell_type": "markdown",
   "metadata": {},
   "source": [
    "### 02-02-02. range()\n",
    "* range 는 일련의 숫자를 반복해야하는 경우 사용하는 함수, 숫자 배열을 만들어서 for-in 사용하는것과같다."
   ]
  },
  {
   "cell_type": "code",
   "execution_count": null,
   "metadata": {},
   "outputs": [],
   "source": [
    "for 변수 in range(반복횟수):\n",
    "    (실행구문)"
   ]
  },
  {
   "cell_type": "code",
   "execution_count": 21,
   "metadata": {},
   "outputs": [
    {
     "name": "stdout",
     "output_type": "stream",
     "text": [
      "반복 1 번째 : i 의 값 0\n",
      "반복 2 번째 : i 의 값 1\n",
      "반복 3 번째 : i 의 값 2\n",
      "반복 4 번째 : i 의 값 3\n",
      "반복 5 번째 : i 의 값 4\n"
     ]
    }
   ],
   "source": [
    "# 인자가 1개일 때의 예시\n",
    "# 파라미터로 숫자 하나만 전달하면 변수가 0부터 1씩 증가하며, 파라미터로 준 길이만큼 반복한다.\n",
    "for i in range(5):\n",
    "    print(f'반복 {i+1} 번째 : i 의 값 {i}')"
   ]
  },
  {
   "cell_type": "code",
   "execution_count": 22,
   "metadata": {},
   "outputs": [
    {
     "name": "stdout",
     "output_type": "stream",
     "text": [
      "반복 6 번째 : i 의 값 5\n",
      "반복 7 번째 : i 의 값 6\n",
      "반복 8 번째 : i 의 값 7\n",
      "반복 9 번째 : i 의 값 8\n"
     ]
    }
   ],
   "source": [
    "# 인자가 2개일때 예시\n",
    "# 생성할 숫자 배열의 시작값과 끝값을 지정\n",
    "\n",
    "for i in range(5,9): # 5 ~ 8 끝값 전 까지 반복\n",
    "    print(f'반복 {i+1} 번째 : i 의 값 {i}')"
   ]
  },
  {
   "cell_type": "code",
   "execution_count": 23,
   "metadata": {},
   "outputs": [
    {
     "name": "stdout",
     "output_type": "stream",
     "text": [
      "반복 6 번째 : i 의 값 5\n",
      "반복 9 번째 : i 의 값 8\n",
      "반복 12 번째 : i 의 값 11\n",
      "반복 15 번째 : i 의 값 14\n"
     ]
    }
   ],
   "source": [
    "# 인자가 3개일때 예시\n",
    "# 생성할 숫자 배열의 시작값 , 끝값 , 증감크기\n",
    "\n",
    "for i in range(5,15,3): # 5 에서 시작해서 15 전 까지 3씩 증가\n",
    "    print(f'반복 {i+1} 번째 : i 의 값 {i}')\n",
    "    "
   ]
  },
  {
   "cell_type": "code",
   "execution_count": 24,
   "metadata": {},
   "outputs": [
    {
     "name": "stdout",
     "output_type": "stream",
     "text": [
      "5\n",
      "3\n"
     ]
    }
   ],
   "source": [
    "for i in range(5,1,-2):\n",
    "    print(i)"
   ]
  },
  {
   "cell_type": "markdown",
   "metadata": {},
   "source": [
    "### range() 함수의 특징\n",
    "1. 인덱스의 길이만큼 반복하면 range()와 len()을 같이 사용 가능"
   ]
  },
  {
   "cell_type": "code",
   "execution_count": 25,
   "metadata": {},
   "outputs": [
    {
     "name": "stdout",
     "output_type": "stream",
     "text": [
      "0 ['i', 'e', 'b', 'am', 'bear']\n",
      "1 ['i', 'e', 'b', 'am', 'bear']\n",
      "2 ['i', 'e', 'b', 'am', 'bear']\n",
      "3 ['i', 'e', 'b', 'am', 'bear']\n",
      "4 ['i', 'e', 'b', 'am', 'bear']\n"
     ]
    }
   ],
   "source": [
    "introduce = ['i','e','b','am','bear']\n",
    "\n",
    "for i in range(len(introduce)):\n",
    "    print(i,introduce)"
   ]
  },
  {
   "cell_type": "markdown",
   "metadata": {},
   "source": [
    "---\n",
    "# 02-03. 반복문 while\n",
    "### 02-03-01. while\n",
    "* 조건이 true 인 동안, 실행 구문을 계속해서 반복한다."
   ]
  },
  {
   "cell_type": "code",
   "execution_count": 26,
   "metadata": {},
   "outputs": [
    {
     "name": "stdout",
     "output_type": "stream",
     "text": [
      "1\n",
      "2\n",
      "3\n",
      "4\n",
      "5\n",
      "6\n",
      "7\n",
      "8\n",
      "9\n",
      "10\n"
     ]
    }
   ],
   "source": [
    "# 1 부터 10 까지 1씩 증가시켜서 i값을 출력하는 반복문\n",
    "i = 1\n",
    "\n",
    "while i <= 10:\n",
    "    print(i)\n",
    "    i += 1"
   ]
  }
 ],
 "metadata": {
  "kernelspec": {
   "display_name": "pylecture_env",
   "language": "python",
   "name": "python3"
  },
  "language_info": {
   "codemirror_mode": {
    "name": "ipython",
    "version": 3
   },
   "file_extension": ".py",
   "mimetype": "text/x-python",
   "name": "python",
   "nbconvert_exporter": "python",
   "pygments_lexer": "ipython3",
   "version": "3.12.7"
  }
 },
 "nbformat": 4,
 "nbformat_minor": 2
}
