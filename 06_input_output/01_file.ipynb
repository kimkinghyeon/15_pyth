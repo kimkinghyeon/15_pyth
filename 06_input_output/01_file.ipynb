{
 "cells": [
  {
   "cell_type": "markdown",
   "metadata": {},
   "source": [
    "# 01. 파일 입출력\n",
    "---\n",
    "## 01-01. 파일 접근\n",
    "### 01-01-01. 파일 열기 open()\n",
    "\n",
    "* 인자로 경로를 포함한 파일명과 파일 열기 모드를 알파벳으로 전달하면서 호출하면 , 파일 객체를 반영하는 함수\n",
    "\n",
    "* 첫번째 매개변수 : 파일명(경로포함)\n",
    "* 두번째 매개변수 : 파일 열기 모드를 설정\n",
    "    * r : 읽기모드\n",
    "    * w : 쓰기 모드 (덮어쓰기) , 기존 파일이 없으면 새로운 파일이 생성된다.\n",
    "    * a : 수정 모드 (파일 끝에 내용추가)"
   ]
  },
  {
   "cell_type": "code",
   "execution_count": 2,
   "metadata": {},
   "outputs": [
    {
     "name": "stdout",
     "output_type": "stream",
     "text": [
      "<_io.TextIOWrapper name='song.txt' mode='r' encoding='utf-8'>\n"
     ]
    }
   ],
   "source": [
    "f = open('song.txt','r')"
   ]
  },
  {
   "cell_type": "markdown",
   "metadata": {},
   "source": [
    "### 01-01-02. 파일 닫기 :close()\n",
    "    * 열려있는 파일 객체를 닫아주는 역할"
   ]
  },
  {
   "cell_type": "code",
   "execution_count": 3,
   "metadata": {},
   "outputs": [],
   "source": [
    "f.close()"
   ]
  },
  {
   "cell_type": "markdown",
   "metadata": {},
   "source": [
    "## 01-02 파일 쓰기\n",
    "### 01-02-01. write()\n",
    "* open 한 파일 객체에 대해 write() 메서드를 사용하면 인자로 넘겨준 하나의 문자열을 파일에 작성한다."
   ]
  },
  {
   "cell_type": "code",
   "execution_count": 4,
   "metadata": {},
   "outputs": [],
   "source": [
    "f = open('song_test.txt','w')\n",
    "\n",
    "f.write('wa!!!')\n",
    "\n",
    "f.close()\n"
   ]
  },
  {
   "cell_type": "markdown",
   "metadata": {},
   "source": [
    "### 01-02-02. writelines()\n",
    "* 인자로 넘겨준 리스트의 요소를 하나하나 파일에 작성한다.\n",
    "    "
   ]
  },
  {
   "cell_type": "code",
   "execution_count": 5,
   "metadata": {},
   "outputs": [],
   "source": [
    "data = [\n",
    "    'wa!!!wa!!!wa!!!wa!!!wa!!!wa!!!wa!!!wa!!!wa!!!wa!!!wa!!!wa!!!\\n'\n",
    "    'wa!!!wa!!!wa!!!wa!!!wa!!!wa!!!wa!!!wa!!!wa!!!wa!!!wa!!!wa!!!\\n'\n",
    "    'wa!!!wa!!!wa!!!wa!!!wa!!!wa!!!wa!!!wa!!!wa!!!wa!!!wa!!!wa!!!\\n'\n",
    "    'wa!!!wa!!!wa!!!wa!!!wa!!!wa!!!wa!!!wa!!!wa!!!wa!!!wa!!!wa!!!\\n'\n",
    "        ]\n",
    "\n",
    "f = open('song_test.txt','w')\n",
    "f.writelines(data)\n",
    "f.close()"
   ]
  },
  {
   "cell_type": "markdown",
   "metadata": {},
   "source": [
    "## 01-03. 파일열기\n",
    "### 01-03-01. 파일 전체 읽기 read()\n",
    "    * 파일 전체 내용을 읽어와 하나의 문자열로 반환한다."
   ]
  },
  {
   "cell_type": "code",
   "execution_count": 7,
   "metadata": {},
   "outputs": [
    {
     "name": "stdout",
     "output_type": "stream",
     "text": [
      "wowwowowowowowowowowwowowowowowowowowwowowowowowowowowwowowowowowowowowwowowowowowowow\n",
      "wowwowowowowowowowowwowowowowowowowowwowowowowowowowowwowowowowowowowowwowowowowowowow\n",
      "wowowwowowowowowowowowwowowowowowowowowwowowowowowowowowwowowowowowowowowwowowowowowow\n",
      "wowwowowowowowowowowwowowowowowowowowwowowowowowowowowwowowowowowowowowwowowowowowowow\n",
      "wowwowowowowowowowowwowowowowowowowowwowowowowowowowowwowowowowowowowowwowowowowowowow\n",
      "wowwowowowowowowowowwowowowowowowowowwowowowowowowowowwowowowowowowowowwowowowowowowow\n",
      "wowwowowowowowowowowwowowowowowowowowwowowowowowowowowwowowowowowowowowwowowowowowowow\n",
      "wowwowowowowowowowowwowowowowowowowowwowowowowowowowowwowowowowowowowowwowowowowowowow\n",
      "wowwowowowowowowowowwowowowowowowowowwowowowowowowowowwowowowowowowowowwowowowowowowow\n",
      "wowwowowowowowowowowwowowowowowowowowwowowowowowowowowwowowowowowowowowwowowowowowowow\n"
     ]
    }
   ],
   "source": [
    "f = open('song.txt','r')\n",
    "data = f.read()\n",
    "print(data)\n",
    "f.close()"
   ]
  },
  {
   "cell_type": "markdown",
   "metadata": {},
   "source": [
    "### 01-03-02. 파일에서 한줄만 읽기 : readiline()"
   ]
  },
  {
   "cell_type": "code",
   "execution_count": 9,
   "metadata": {},
   "outputs": [
    {
     "name": "stdout",
     "output_type": "stream",
     "text": [
      "wowwowowowowowowowowwowowowowowowowowwowowowowowowowowwowowowowowowowowwowowowowowowow\n",
      "\n",
      "wowwowowowowowowowowwowowowowowowowowwowowowowowowowowwowowowowowowowowwowowowowowowow\n",
      "\n",
      "wowowwowowowowowowowowwowowowowowowowowwowowowowowowowowwowowowowowowowowwowowowowowow\n",
      "\n",
      "wowwowowowowowowowowwowowowowowowowowwowowowowowowowowwowowowowowowowowwowowowowowowow\n",
      "\n",
      "wowwowowowowowowowowwowowowowowowowowwowowowowowowowowwowowowowowowowowwowowowowowowow\n",
      "\n",
      "wowwowowowowowowowowwowowowowowowowowwowowowowowowowowwowowowowowowowowwowowowowowowow\n",
      "\n",
      "wowwowowowowowowowowwowowowowowowowowwowowowowowowowowwowowowowowowowowwowowowowowowow\n",
      "\n",
      "wowwowowowowowowowowwowowowowowowowowwowowowowowowowowwowowowowowowowowwowowowowowowow\n",
      "\n",
      "wowwowowowowowowowowwowowowowowowowowwowowowowowowowowwowowowowowowowowwowowowowowowow\n",
      "\n",
      "wowwowowowowowowowowwowowowowowowowowwowowowowowowowowwowowowowowowowowwowowowowowowow\n"
     ]
    }
   ],
   "source": [
    "f = open('song.txt','r')\n",
    "while True:\n",
    "    data = f.readline()\n",
    "    if not data:\n",
    "        break\n",
    "    print(data)\n",
    "f.close()"
   ]
  },
  {
   "cell_type": "code",
   "execution_count": 12,
   "metadata": {},
   "outputs": [
    {
     "name": "stdout",
     "output_type": "stream",
     "text": [
      "['wowwowowowowowowowowwowowowowowowowowwowowowowowowowowwowowowowowowowowwowowowowowowow\\n', 'wowwowowowowowowowowwowowowowowowowowwowowowowowowowowwowowowowowowowowwowowowowowowow\\n', 'wowowwowowowowowowowowwowowowowowowowowwowowowowowowowowwowowowowowowowowwowowowowowow\\n', 'wowwowowowowowowowowwowowowowowowowowwowowowowowowowowwowowowowowowowowwowowowowowowow\\n', 'wowwowowowowowowowowwowowowowowowowowwowowowowowowowowwowowowowowowowowwowowowowowowow\\n', 'wowwowowowowowowowowwowowowowowowowowwowowowowowowowowwowowowowowowowowwowowowowowowow\\n', 'wowwowowowowowowowowwowowowowowowowowwowowowowowowowowwowowowowowowowowwowowowowowowow\\n', 'wowwowowowowowowowowwowowowowowowowowwowowowowowowowowwowowowowowowowowwowowowowowowow\\n', 'wowwowowowowowowowowwowowowowowowowowwowowowowowowowowwowowowowowowowowwowowowowowowow\\n', 'wowwowowowowowowowowwowowowowowowowowwowowowowowowowowwowowowowowowowowwowowowowowowowit is war ...']\n"
     ]
    }
   ],
   "source": [
    "# 파일 전체를 줄마다 (리스트 형태로) 가져오기\n",
    "f = open('song.txt','r')\n",
    "\n",
    "data = f.readlines()\n",
    "print(data)\n",
    "f.close()"
   ]
  },
  {
   "cell_type": "markdown",
   "metadata": {},
   "source": [
    "---\n",
    "## 01-04. 파일 내용 추가하기\n",
    "\n",
    "### 01-04-01. 파일 내용 추가 모드\n",
    "* 추가모드 'a' 를 사용하여 파일을 열어 내용을 추가 할 수 있다.\n",
    "* 쓰기모드('w')로 파일을 열때 이미 존재하는 파일을 열게되면 그파일의 내용이 사라진다."
   ]
  },
  {
   "cell_type": "code",
   "execution_count": 11,
   "metadata": {},
   "outputs": [],
   "source": [
    "f = open('song.txt','a')\n",
    "f.write('it is war ...')\n",
    "f.close()"
   ]
  },
  {
   "cell_type": "markdown",
   "metadata": {},
   "source": [
    "---\n",
    "## 01-05. with 키워드\n",
    "* 파일을 열어서 사용하고 사용이 종료되면 닫는 역할을 한다.\n",
    "* with문을 사용하면 with 블록을 벗어나는 순간, 객체가 닫히게 된다."
   ]
  },
  {
   "cell_type": "code",
   "execution_count": null,
   "metadata": {},
   "outputs": [],
   "source": [
    "with open('song_test.txt','w') as f:\n",
    "    f.write('life is too war,you need war!')"
   ]
  }
 ],
 "metadata": {
  "kernelspec": {
   "display_name": "pylecture_env",
   "language": "python",
   "name": "python3"
  },
  "language_info": {
   "codemirror_mode": {
    "name": "ipython",
    "version": 3
   },
   "file_extension": ".py",
   "mimetype": "text/x-python",
   "name": "python",
   "nbconvert_exporter": "python",
   "pygments_lexer": "ipython3",
   "version": "3.12.7"
  }
 },
 "nbformat": 4,
 "nbformat_minor": 2
}
