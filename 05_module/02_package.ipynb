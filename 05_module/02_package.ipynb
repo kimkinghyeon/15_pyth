{
 "cells": [
  {
   "cell_type": "markdown",
   "metadata": {},
   "source": [
    "# 02. 패키지(package)\n",
    "---\n",
    "## 02-01 패키지 개요\n",
    "### 패키지란?\n",
    "* 관련있는 함수 클래스, 변수 등을 묶어 만든 모듈을 폴더로 구분하여 관리하는것\n",
    "* 하나 이상의 모듈을 가지고 있는 폴더를 패키지 라고 부른다."
   ]
  },
  {
   "cell_type": "markdown",
   "metadata": {},
   "source": [
    "* 사용할때도 패키지명 모듈명을 붙여 사용한다."
   ]
  },
  {
   "cell_type": "code",
   "execution_count": 36,
   "metadata": {},
   "outputs": [
    {
     "name": "stdout",
     "output_type": "stream",
     "text": [
      "get out plz\n"
     ]
    }
   ],
   "source": [
    "import kingtiger.team.teacher\n",
    "\n",
    "print(kingtiger.team.teacher.go())"
   ]
  },
  {
   "cell_type": "code",
   "execution_count": 37,
   "metadata": {},
   "outputs": [
    {
     "name": "stdout",
     "output_type": "stream",
     "text": [
      "get out plz\n"
     ]
    }
   ],
   "source": [
    "# 별칭을 사용한다.\n",
    "import kingtiger.team.teacher as og\n",
    "\n",
    "print(og.go())"
   ]
  },
  {
   "cell_type": "code",
   "execution_count": 38,
   "metadata": {},
   "outputs": [
    {
     "name": "stdout",
     "output_type": "stream",
     "text": [
      "get out plz\n"
     ]
    }
   ],
   "source": [
    "# from-import 사용\n",
    "from kingtiger.team.teacher import go\n",
    "\n",
    "print(go())"
   ]
  },
  {
   "cell_type": "markdown",
   "metadata": {},
   "source": [
    "# 02-02. PyPI (python package index)\n",
    "---\n",
    "## 02-02-01. pypi란?\n",
    "* 개인 혹은 단체에 의해 개발 및 유지되는 파이썬 외부 라이브러리를 호스팅하고 배포하는 공식저장소\n",
    "* 파이썬 패키지 관리 시스템인 pip 를 통해 설치하여 사용 가능하다.\n",
    "\n",
    "### 02-02-02. pip?\n",
    "* pypi 에 공유된 패키지를 검색하고 설치하기 위한 명령어\n",
    "* pip 명령어를 활용하여 특정 패키지 설치, 업그레이드 , 제거, 패키지 목록관리 등을 할 수 있다."
   ]
  },
  {
   "cell_type": "markdown",
   "metadata": {},
   "source": [
    " **명령어** | **의미** |\n",
    "| --- | --- |\n",
    "| pip install *패키지명* | PyPI에서 패키지명으로 검색하여 최신 버전 설치 |\n",
    "| pip install *패키지명*==*버전* | 특정 버전의 패키지를 설치 |\n",
    "| pip list | 설치된 전체 패키지 및 버전 확인 |\n",
    "| pip list | grep *패키지명* | 설치된 특정 패키지 및 해당 패키지의 버전 확인 |\n",
    "| pip install --upgrade *패키지명* | 특정 패키지의 버전 업데이트 |\n",
    "| pip uninstall *패키지명* | 설치된 특정 패키지 제거 |"
   ]
  }
 ],
 "metadata": {
  "kernelspec": {
   "display_name": "pylecture_env",
   "language": "python",
   "name": "python3"
  },
  "language_info": {
   "codemirror_mode": {
    "name": "ipython",
    "version": 3
   },
   "file_extension": ".py",
   "mimetype": "text/x-python",
   "name": "python",
   "nbconvert_exporter": "python",
   "pygments_lexer": "ipython3",
   "version": "3.12.7"
  }
 },
 "nbformat": 4,
 "nbformat_minor": 2
}
