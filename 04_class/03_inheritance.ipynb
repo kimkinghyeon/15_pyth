{
 "cells": [
  {
   "cell_type": "markdown",
   "metadata": {},
   "source": [
    "# 03. 상속 (inheritance)\n",
    "---\n",
    "## 03-01. 상속 개요\n",
    "### 03-01-01. 상속이란?\n",
    "\n",
    "* 부모 클래스를 상속 받다는 것\n",
    "* 부모가 가지고 있는 속성이나 메서드를 자신의 것처럼 사용할 수 있다는 의미\n",
    "\n",
    "### 03-01-02. 상속 기본 문법"
   ]
  },
  {
   "cell_type": "code",
   "execution_count": null,
   "metadata": {},
   "outputs": [],
   "source": [
    "class 자식클래스(부모클래스):\n",
    "    <속성1>\n",
    "    <속성...>"
   ]
  },
  {
   "cell_type": "code",
   "execution_count": 1,
   "metadata": {},
   "outputs": [
    {
     "name": "stdout",
     "output_type": "stream",
     "text": [
      "hello. this is python\n"
     ]
    }
   ],
   "source": [
    "class Person:\n",
    "    national = 'korea'\n",
    "    def greeting(self):\n",
    "        return 'hello. this is python'\n",
    "    \n",
    "class Student(Person):\n",
    "    pass\n",
    "\n",
    "student = Student()\n",
    "\n",
    "print(student.greeting())"
   ]
  },
  {
   "cell_type": "markdown",
   "metadata": {},
   "source": [
    "## 03-02. 상속의 특징\n",
    "### 03-02-01. 다중 상속 지원\n",
    "* 부모 클래스를 여러 개 가지는 다중 상속을 지원한다."
   ]
  },
  {
   "cell_type": "code",
   "execution_count": 8,
   "metadata": {},
   "outputs": [
    {
     "name": "stdout",
     "output_type": "stream",
     "text": [
      "i am learning python\n",
      "korea\n",
      "hello. this is python\n",
      "(<class '__main__.Student'>, <class '__main__.Person'>, <class '__main__.Learner'>, <class 'object'>)\n"
     ]
    }
   ],
   "source": [
    "class Person:\n",
    "    national = 'korea'\n",
    "    def greeting(self):\n",
    "        return 'hello. this is python'\n",
    "\n",
    "class Learner:\n",
    "    def greeting(self):\n",
    "        return 'hello. i am learner'\n",
    "    \n",
    "    def learn(self):\n",
    "        return 'i am learning python'\n",
    "    \n",
    "class Student(Person, Learner):\n",
    "    pass\n",
    "\n",
    "student = Student()\n",
    "\n",
    "print(student.learn())\n",
    "print(student.national)\n",
    "print(student.greeting())\n",
    "\n",
    "# mro\n",
    "# method resolution order\n",
    "# 파이썬에서 메서드나 속성르 탐색하는 순서를 정의하는 규칙\n",
    "# 파이썬에서는 c3 성형화 알고리즘에 따라 mro를 결정\n",
    "# 1. 자식 클래스가 부모클래스보다 먼저 탐색됨\n",
    "# 2. 부모 클래스의 순서를 유지\n",
    "# 3. 중복 제거\n",
    "\n",
    "print(Student.__mro__)"
   ]
  },
  {
   "cell_type": "markdown",
   "metadata": {},
   "source": [
    "### 03-02-02 다른 모듈의 클래스 상속 가능\n",
    "* 다른 모듈에 포함된 클래스도 상속 받을 수 있다."
   ]
  },
  {
   "cell_type": "code",
   "execution_count": 9,
   "metadata": {},
   "outputs": [
    {
     "name": "stdout",
     "output_type": "stream",
     "text": [
      "hello. this is python\n"
     ]
    }
   ],
   "source": [
    "import modules\n",
    "\n",
    "class Modules_test(modules.Person):\n",
    "    pass\n",
    "\n",
    "modules_test = Modules_test()\n",
    "print(modules_test.greeting())\n",
    "\n"
   ]
  },
  {
   "cell_type": "markdown",
   "metadata": {},
   "source": [
    "### 03-02-03. 부모 클래스의 속성 오버라이딩 가능\n",
    "* 부모클래스의 속성을 오버라이딩해서 사용 할 수 있다."
   ]
  },
  {
   "cell_type": "code",
   "execution_count": 14,
   "metadata": {},
   "outputs": [
    {
     "name": "stdout",
     "output_type": "stream",
     "text": [
      "hello. my name is tiger\n",
      "i am learning python\n",
      "(<class '__main__.Student'>, <class '__main__.Learner'>, <class '__main__.Person'>, <class 'object'>)\n"
     ]
    }
   ],
   "source": [
    "class Person:\n",
    "    national = 'korea'\n",
    "    def greeting(self):\n",
    "        return 'hello. this is python'\n",
    "\n",
    "class Learner(Person):\n",
    "    def __init__(self,subject):\n",
    "        self.subject = subject\n",
    "        \n",
    "    def learn(self):\n",
    "        return f'i am learning {self.subject}'\n",
    "    \n",
    "class Student(Learner):\n",
    "    def __init__(self, name, subject):\n",
    "        # 부모클래스의 생성자 호출\n",
    "        Learner.__init__(self,subject)\n",
    "        self.name = name\n",
    "    \n",
    "    # 오버라이딩    \n",
    "    def greeting(self):\n",
    "        return f'hello. my name is {self.name}'\n",
    "        \n",
    "student = Student('tiger','python')\n",
    "print(student.greeting())\n",
    "print(student.learn())\n",
    "\n",
    "print(Student.__mro__)"
   ]
  },
  {
   "cell_type": "markdown",
   "metadata": {},
   "source": [
    "---\n",
    "# 04. 다형성\n",
    "## 04-01. 다형성 개요\n",
    "### 04-01-01. 다형성이란\n",
    "* 같은 멤버 함수 호출에 대해 (상속관계 내의) 다른 클래스의 인스턴스들이 각각 다르게 반응하도록 하는 기능"
   ]
  },
  {
   "cell_type": "code",
   "execution_count": 20,
   "metadata": {},
   "outputs": [
    {
     "name": "stdout",
     "output_type": "stream",
     "text": [
      "🐕🐕\n",
      "🏴‍☠️⚓🔥\n",
      "🐈🐈\n",
      "-------------------------------\n",
      "🐕🐕\n",
      "🏴‍☠️⚓🔥\n",
      "🐈🐈\n",
      "☠ ☠ ☠🤺🦜😈\n"
     ]
    }
   ],
   "source": [
    "#  부모클래스\n",
    "\n",
    "class Animal:\n",
    "    def do(self):\n",
    "        print('🏴‍☠️⚓🔥')\n",
    "\n",
    "class Dog(Animal):\n",
    "    def do(self):\n",
    "        print('🐕🐕')\n",
    "\n",
    "class Duck(Animal):\n",
    "    # def do(self):\n",
    "    #     print('🦆🦆')\n",
    "    pass\n",
    "        \n",
    "class Cat(Animal):\n",
    "    def do(self):\n",
    "        print('🐈🐈')\n",
    "        \n",
    "for each in (Dog(),Duck(),Cat()):\n",
    "    each.do()\n",
    "    \n",
    "print('-------------------------------')\n",
    "class Alarm:\n",
    "    def do(self):\n",
    "        print('☠ ☠ ☠🤺🦜😈')\n",
    "        \n",
    "for each in (Dog(),Duck(),Cat(),Alarm()):\n",
    "    each.do()"
   ]
  }
 ],
 "metadata": {
  "kernelspec": {
   "display_name": "pylecture_env",
   "language": "python",
   "name": "python3"
  },
  "language_info": {
   "codemirror_mode": {
    "name": "ipython",
    "version": 3
   },
   "file_extension": ".py",
   "mimetype": "text/x-python",
   "name": "python",
   "nbconvert_exporter": "python",
   "pygments_lexer": "ipython3",
   "version": "3.12.7"
  }
 },
 "nbformat": 4,
 "nbformat_minor": 2
}
