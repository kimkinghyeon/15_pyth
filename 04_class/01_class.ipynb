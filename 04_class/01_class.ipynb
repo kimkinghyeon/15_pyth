{
 "cells": [
  {
   "cell_type": "markdown",
   "metadata": {},
   "source": [
    "# 01.클래스 (class)\n",
    "---\n",
    "## 01-01. 클래스 개요\n",
    "### 01-01-01. 클래스란?\n",
    "* 객체지향(oop)를 지원하는 중요한 개념\n",
    "* 추상화된 데이터와 함수(메서드)를 하나의 단위로 묶어 만들 수 있다.\n",
    "* 클래스를 사용해 인스턴스를 생성하며 객체 단위로 사용 할 수 있다."
   ]
  },
  {
   "cell_type": "markdown",
   "metadata": {},
   "source": [
    "### 01-01-02. 클래스 표현\n",
    "* class 키워드와 콜론을 이용해 클래스를 정의한다.\n",
    "* 클래스 정의시에도 **'반드시'** 클래스의 내용이 될 블록을 들여쓰기 한다."
   ]
  },
  {
   "cell_type": "code",
   "execution_count": 5,
   "metadata": {},
   "outputs": [],
   "source": [
    "class Person:\n",
    "    national = 'korean'\n",
    "    def greeting(self):\n",
    "        return 'hello. this is python'"
   ]
  },
  {
   "cell_type": "markdown",
   "metadata": {},
   "source": [
    "## 01-02. 클래스의 구성요소\n",
    "### 0-02-01. 클래스의 속성\n",
    "* 클래스 자체에 속하는 변수로 , 모든 인스턴스가 공유한다."
   ]
  },
  {
   "cell_type": "code",
   "execution_count": 8,
   "metadata": {},
   "outputs": [
    {
     "name": "stdout",
     "output_type": "stream",
     "text": [
      "korea\n",
      "korean\n"
     ]
    }
   ],
   "source": [
    "class Person:\n",
    "    national = 'korea'\n",
    "    language = 'korean'\n",
    "\n",
    "print(Person.national)\n",
    "print(Person.language)"
   ]
  },
  {
   "cell_type": "markdown",
   "metadata": {},
   "source": [
    "## 01-02-02. 메소드(method)\n",
    "* 클래스 내부에 정의된 함수로 인스터스 데이터를 조작하거나 동작을 정의한다.\n",
    "* 메소드 호출 시 객체의 주소값이 첫번째 인자로 넘어오기 때문에 객체를 통한 접근시 호출되는 메서드의 첫번째 인자는 항상 self 이어야한다."
   ]
  },
  {
   "cell_type": "code",
   "execution_count": 11,
   "metadata": {},
   "outputs": [],
   "source": [
    "class Person:\n",
    "    national = 'korea'\n",
    "    language = 'korean'\n",
    "    \n",
    "    def greeting(self):\n",
    "        return 'hi'\n",
    "    def information(self):\n",
    "        return f\"i'm form {self.national} and i use {self.language}\"\n",
    "    def favorite(self,color):\n",
    "        return f\"i love{color}\""
   ]
  },
  {
   "cell_type": "code",
   "execution_count": 12,
   "metadata": {},
   "outputs": [
    {
     "name": "stdout",
     "output_type": "stream",
     "text": [
      "hi\n",
      "i'm form korea and i use korean\n",
      "i loveblue\n"
     ]
    }
   ],
   "source": [
    "# 객체 생성\n",
    "person_instance_1 = Person()\n",
    "person_instance_2 = Person()\n",
    "\n",
    "print(person_instance_1.greeting())\n",
    "print(person_instance_2.information())\n",
    "print(person_instance_1.favorite('blue'))"
   ]
  },
  {
   "cell_type": "markdown",
   "metadata": {},
   "source": [
    "### 01-02-03. 생성자\n",
    "* init 메서드는 객체가 생성될 때 자동으로 호출되는 메서드 (생성자)\n",
    "* 매개변수를 전달해 인스턴스의 속성을 초기화 할 수 있다."
   ]
  },
  {
   "cell_type": "code",
   "execution_count": 18,
   "metadata": {},
   "outputs": [],
   "source": [
    "class Person:\n",
    "    national = 'korea'\n",
    "    language = 'korean'\n",
    "    \n",
    "    def __init__(self,name,age):\n",
    "        self.name = name\n",
    "        self.age = age\n",
    "    \n",
    "    def greeting(self):\n",
    "        return 'hi'\n",
    "    def information(self):\n",
    "        return f\"i'm form {self.national} and i use {self.language} , my name is {self.name} my age is {self.age}\"\n",
    "    def favorite(self,color):\n",
    "        return f\"i love{color}\""
   ]
  },
  {
   "cell_type": "code",
   "execution_count": 22,
   "metadata": {},
   "outputs": [
    {
     "name": "stdout",
     "output_type": "stream",
     "text": [
      "i'm form korea and i use korean , my name is bear my age is 20\n",
      "i'm form korea and i use korean , my name is mongkey my age is 20\n"
     ]
    }
   ],
   "source": [
    "# 객체 생성\n",
    "person_instance_1 = Person('bear',20)\n",
    "person_instance_2 = Person('mongkey',20)\n",
    "\n",
    "print(person_instance_1.information())\n",
    "print(person_instance_2.information())"
   ]
  }
 ],
 "metadata": {
  "kernelspec": {
   "display_name": "pylecture_env",
   "language": "python",
   "name": "python3"
  },
  "language_info": {
   "codemirror_mode": {
    "name": "ipython",
    "version": 3
   },
   "file_extension": ".py",
   "mimetype": "text/x-python",
   "name": "python",
   "nbconvert_exporter": "python",
   "pygments_lexer": "ipython3",
   "version": "3.12.7"
  }
 },
 "nbformat": 4,
 "nbformat_minor": 2
}
