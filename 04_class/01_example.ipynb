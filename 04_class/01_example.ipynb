{
 "cells": [
  {
   "cell_type": "code",
   "execution_count": 31,
   "metadata": {},
   "outputs": [
    {
     "name": "stdout",
     "output_type": "stream",
     "text": [
      "2\n",
      "1680\n"
     ]
    }
   ],
   "source": [
    "# 여러 개의 숫자를 입력받아 모두 곱한 결과를 반환하는 multiply_all 함수를 만드세요.\n",
    "def multiply_all(*numbers):\n",
    "    result = 1\n",
    "    for num in numbers:\n",
    "        result *= num\n",
    "    return result\n",
    "\n",
    "numbers = map(int, input(\"숫자를 공백으로 구분해서 입력하세요: \").split())\n",
    "\n",
    "print(multiply_all(*numbers))\n",
    "print(multiply_all(5, 6, 7, 8))"
   ]
  },
  {
   "cell_type": "code",
   "execution_count": 21,
   "metadata": {},
   "outputs": [
    {
     "name": "stdout",
     "output_type": "stream",
     "text": [
      "[0]\n"
     ]
    }
   ],
   "source": [
    "# 숫자를 입력받아 양수인지 음수인지 0인지 판별하는 check_number 함수를 삼항 연산자를 사용하여 만드세요.\n",
    "numbers = input().split()\n",
    "numbers_change = map(lambda i : '양수' if int(i) > 0 else ('음수' if int(i) < 0 else 0), numbers)\n",
    "print(list(numbers_change))"
   ]
  },
  {
   "cell_type": "code",
   "execution_count": 27,
   "metadata": {},
   "outputs": [
    {
     "name": "stdout",
     "output_type": "stream",
     "text": [
      "1\n",
      "4\n",
      "9\n",
      "16\n",
      "25\n"
     ]
    }
   ],
   "source": [
    "# 주어진 리스트의 각 요소를 제곱하는 람다 함수를 작성하세요.\n",
    "numbers = [1, 2, 3, 4, 5] \n",
    "for num in numbers:\n",
    "    print(f'{num*num}')"
   ]
  },
  {
   "cell_type": "code",
   "execution_count": 33,
   "metadata": {},
   "outputs": [
    {
     "name": "stdout",
     "output_type": "stream",
     "text": [
      "제3사분면\n"
     ]
    }
   ],
   "source": [
    "def find_quadrant(x, y):\n",
    "    if x > 0 and y > 0:\n",
    "        return \"제1사분면\"\n",
    "    elif x < 0 and y > 0:\n",
    "        return \"제2사분면\"\n",
    "    elif x < 0 and y < 0:\n",
    "        return \"제3사분면\"\n",
    "    elif x > 0 and y < 0:\n",
    "        return \"제4사분면\"\n",
    "\n",
    "# 사용자 입력 받기\n",
    "x = int(input(\"x 좌표를 입력하세요: \"))\n",
    "y = int(input(\"y 좌표를 입력하세요: \"))\n",
    "\n",
    "# 결과 출력\n",
    "print(find_quadrant(x, y))"
   ]
  },
  {
   "cell_type": "code",
   "execution_count": 39,
   "metadata": {},
   "outputs": [
    {
     "name": "stdout",
     "output_type": "stream",
     "text": [
      "12 15\n"
     ]
    }
   ],
   "source": [
    "def alarm_clock(h, m):\n",
    "    # 45분 일찍 알람 설정하기\n",
    "    m -= 45  # 분에서 45분 빼기\n",
    "    if m < 0:  # 만약 분이 음수면\n",
    "        m += 60  # 60분을 더해주고\n",
    "        h -= 1  # 시간을 1 감소\n",
    "        if h < 0:  # 만약 시간이 음수면 (0시에서 1을 빼면 23시로)\n",
    "            h = 23\n",
    "\n",
    "    return h, m\n",
    "\n",
    "# 사용자 입력 받기\n",
    "h, m = map(int, input(\"시간과 분을 입력하세요 (예: 10 30): \").split())\n",
    "\n",
    "# 결과 출력\n",
    "new_h, new_m = alarm_clock(h, m)\n",
    "print(new_h,new_m)\n"
   ]
  }
 ],
 "metadata": {
  "kernelspec": {
   "display_name": "pylecture_env",
   "language": "python",
   "name": "python3"
  },
  "language_info": {
   "codemirror_mode": {
    "name": "ipython",
    "version": 3
   },
   "file_extension": ".py",
   "mimetype": "text/x-python",
   "name": "python",
   "nbconvert_exporter": "python",
   "pygments_lexer": "ipython3",
   "version": "3.12.7"
  }
 },
 "nbformat": 4,
 "nbformat_minor": 2
}
