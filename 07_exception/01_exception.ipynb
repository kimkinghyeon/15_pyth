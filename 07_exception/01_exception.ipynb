{
 "cells": [
  {
   "cell_type": "markdown",
   "metadata": {},
   "source": [
    "# 01. 예외처리\n",
    "---\n",
    "## 01-01. 예외 개요\n",
    "### 01-01-01. 예외란?\n",
    "* 예외는 문장이나 표현식이 문법적으로 올바르다 할지라도 프로그램이 실행되는 동안 발생하는<br>\n",
    "**'예상치 못한 오류'** 이다.\n",
    "* 예외가 발생할 경우 프로그램이 의도한 대로 동작하지 않게 되기 때문에 예외를 적절하게 처리하여\n",
    "   프로그램이 중단되는 상황을 피해 주어야한다.\n"
   ]
  },
  {
   "cell_type": "markdown",
   "metadata": {},
   "source": [
    "### 01-01-02. 예외 발생\n",
    "* 특수한 경우 예외를 발생시키고 처리할 목적으로 만들어 사용하기도 한다.\n",
    "* 내장 클래스인 Exception 클래스를 상속하여 만들 수 있다.\n"
   ]
  },
  {
   "cell_type": "code",
   "execution_count": 2,
   "metadata": {},
   "outputs": [
    {
     "name": "stdout",
     "output_type": "stream",
     "text": [
      "1\n",
      "1\n"
     ]
    }
   ],
   "source": [
    "class MyError(Exception):\n",
    "    pass\n",
    "\n",
    "def say_nick(nick):\n",
    "    if nick == 'bear':\n",
    "        raise MyError()\n",
    "    \n",
    "    print(nick)\n",
    "    \n",
    "nicknmame = input()\n",
    "say_nick(nicknmame)\n",
    "\n",
    "try:\n",
    "    say_nick(nicknmame)\n",
    "    \n",
    "except MyError(nicknmame):\n",
    "    print('예외 발생')"
   ]
  },
  {
   "cell_type": "markdown",
   "metadata": {},
   "source": [
    "## 01-02. 예외처리 기본 문법\n",
    "* 예외처리는 기본적으로 try-excepmt 구조로 작성한다.\n",
    "* try 블럭안에는 실행할 코드를 작성(exception)\n",
    "* except 블럭 안에는 try 블럭 안에서 실행되는 코드에서 예외발생시 동작할 코드 작성"
   ]
  },
  {
   "cell_type": "code",
   "execution_count": null,
   "metadata": {},
   "outputs": [],
   "source": [
    "# 예시\n",
    "try:\n",
    "    num = int(input('정수를 입력하새요'))\n",
    "    print(10/num)\n",
    "except ZeroDivisionError:\n",
    "    print('0으로 나늘 수 없습니다.')\n",
    "except ValueError:\n",
    "    print('int로 변환되지 않은 문자를 입력받음')"
   ]
  },
  {
   "cell_type": "markdown",
   "metadata": {},
   "source": [
    "### 0-02-02 예외 상황에 대한 처리"
   ]
  },
  {
   "cell_type": "code",
   "execution_count": null,
   "metadata": {},
   "outputs": [],
   "source": [
    "try:\n",
    "    a = [1,2,3,4]\n",
    "    print(a[30])\n",
    "    4/0\n",
    "except IndexError:\n",
    "    print('인덱싱 할 수 없다')\n",
    "except ValueError:\n",
    "    print('0으로 나눌 수는 없다.')"
   ]
  },
  {
   "cell_type": "markdown",
   "metadata": {},
   "source": [
    "###01-03-02. else\n",
    "* try 문에 else 키워드를 사용 할 수 있다.\n",
    "* try 문 수행중 오류가 발생했을때 except 블럭에 해당하는 코드를 동작시키고\n",
    "* 오류가 발생하지 않았을 경우에만 else 블럭이 동작한다."
   ]
  },
  {
   "cell_type": "code",
   "execution_count": null,
   "metadata": {},
   "outputs": [],
   "source": [
    "try:\n",
    "    (동작할 코드)\n",
    "except 오류:\n",
    "    (오류 발생시 동작할 코드)\n",
    "else:\n",
    "    (오류가 발생하지 않을시 동작할 코드)"
   ]
  },
  {
   "cell_type": "code",
   "execution_count": 4,
   "metadata": {},
   "outputs": [
    {
     "name": "stdout",
     "output_type": "stream",
     "text": [
      "boy\n"
     ]
    }
   ],
   "source": [
    "# 예시\n",
    "try:\n",
    "    age = int(input())\n",
    "except:\n",
    "    print('number input')\n",
    "else:\n",
    "    if age <= 18:\n",
    "        print('boy')\n",
    "    else:\n",
    "        print('men')"
   ]
  },
  {
   "cell_type": "markdown",
   "metadata": {},
   "source": [
    "### pass\n",
    "* 특정 오류가 발생했을때 그냥 통과시켜야 하는 경우가 있다. (오류회피)\n",
    "* 오류 회피할때 pass 키워드를 사용해서 작성할 수 있다."
   ]
  },
  {
   "cell_type": "code",
   "execution_count": null,
   "metadata": {},
   "outputs": [],
   "source": [
    "try:\n",
    "    f = open('???','r')\n",
    "except FileExistsError:\n",
    "    pass"
   ]
  }
 ],
 "metadata": {
  "kernelspec": {
   "display_name": "pylecture_env",
   "language": "python",
   "name": "python3"
  },
  "language_info": {
   "codemirror_mode": {
    "name": "ipython",
    "version": 3
   },
   "file_extension": ".py",
   "mimetype": "text/x-python",
   "name": "python",
   "nbconvert_exporter": "python",
   "pygments_lexer": "ipython3",
   "version": "3.12.7"
  }
 },
 "nbformat": 4,
 "nbformat_minor": 2
}
