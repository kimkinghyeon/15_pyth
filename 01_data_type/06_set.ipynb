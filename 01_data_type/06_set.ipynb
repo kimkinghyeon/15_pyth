{
 "cells": [
  {
   "cell_type": "markdown",
   "metadata": {},
   "source": [
    "# 06. Set\n",
    "---\n",
    "## 06-01. Set 개요\n",
    "### 06-01-01. Set 이란?\n",
    "* 중복된 요소를 허용하지 않으며 순서 없이 요소를 저장하는 자료형\n",
    "* 중복제거가 필요할때 유용하게 사용한다.\n",
    "* 중괄호{}를 사용해서 집합을 생성한다. "
   ]
  },
  {
   "cell_type": "code",
   "execution_count": 1,
   "metadata": {},
   "outputs": [],
   "source": [
    "safari_set = {'bear','koara','gorilla','squirrel'}\n",
    "# 여러가지 타입 집합 가능\n",
    "mixed_set = { 1, 'bear' , (1,2,3)}"
   ]
  },
  {
   "cell_type": "markdown",
   "metadata": {},
   "source": [
    "* set() 을 사용해 형변환도 가능"
   ]
  },
  {
   "cell_type": "code",
   "execution_count": 2,
   "metadata": {},
   "outputs": [
    {
     "name": "stdout",
     "output_type": "stream",
     "text": [
      "<class 'set'>\n"
     ]
    }
   ],
   "source": [
    "another_safari_set = set(['mongkey','wolf','tiger'])\n",
    "print(type(another_safari_set))"
   ]
  },
  {
   "cell_type": "markdown",
   "metadata": {},
   "source": [
    "## 06-01-03. Set의 특징\n",
    "1. 순서가 없는 자료형이며, 순서가 없으므로 인덱스를 사용한 접근이 불가"
   ]
  },
  {
   "cell_type": "code",
   "execution_count": null,
   "metadata": {},
   "outputs": [],
   "source": [
    "quantum = {'pig','mongkey','gorilla'}\n",
    "print(quantum)\n",
    "# print(quantum[0])"
   ]
  },
  {
   "cell_type": "markdown",
   "metadata": {},
   "source": [
    "2. 중복을 허용하지 않으므로 동일한 값은 하나만 저장"
   ]
  },
  {
   "cell_type": "code",
   "execution_count": 3,
   "metadata": {},
   "outputs": [
    {
     "name": "stdout",
     "output_type": "stream",
     "text": [
      "{'pig', 'gorilla', 'mongkey'}\n"
     ]
    }
   ],
   "source": [
    "quantum = {'pig','pig','mongkey','gorilla'}\n",
    "print(quantum)"
   ]
  }
 ],
 "metadata": {
  "kernelspec": {
   "display_name": "pylecture_env",
   "language": "python",
   "name": "python3"
  },
  "language_info": {
   "codemirror_mode": {
    "name": "ipython",
    "version": 3
   },
   "file_extension": ".py",
   "mimetype": "text/x-python",
   "name": "python",
   "nbconvert_exporter": "python",
   "pygments_lexer": "ipython3",
   "version": "3.12.7"
  }
 },
 "nbformat": 4,
 "nbformat_minor": 2
}
