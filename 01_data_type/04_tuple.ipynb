{
 "cells": [
  {
   "cell_type": "markdown",
   "metadata": {},
   "source": [
    "#04. 튜플(Tuple)\n",
    "---\n",
    "## 04-01. 튜플 개요\n",
    "### 04-01-01. 튜플이란?\n",
    "* 여러개의 값을 하나의 변수에 저장할 수 있는 자료구조이다.\n",
    "* 튜플은 한번 생성되면 그 값을 변경 할 수 없다.\n",
    "\n",
    "### 04-01-02. 튜플 표현식\n",
    "* 튜플은 소괄호를 사용하거나 사용하지 않고 생성할 수 있으며, 생성된 이후에는 그 값을 변경 할 수 없다."
   ]
  },
  {
   "cell_type": "markdown",
   "metadata": {},
   "source": [
    "튜플명 = ('값1','값2',...)"
   ]
  },
  {
   "cell_type": "code",
   "execution_count": 7,
   "metadata": {},
   "outputs": [
    {
     "name": "stdout",
     "output_type": "stream",
     "text": [
      "((1, 2, 'test'), ('test', 1, 2, 3, 4))\n",
      "(1, 2, 'test')\n",
      "test\n",
      "(1, 2, 3)\n"
     ]
    }
   ],
   "source": [
    "tuples = (1,2,'test'),('test',1,2,3,4)\n",
    "print(tuples)\n",
    "print(tuples[0])\n",
    "print(tuples[0][2])\n",
    "\n",
    "no_wrap_tuple = 1,2,3\n",
    "print(no_wrap_tuple)"
   ]
  },
  {
   "cell_type": "markdown",
   "metadata": {},
   "source": [
    "---\n",
    "## 04-02. 튜플연산\n",
    "### 04-02-01. 불변 객체\n",
    "* 튜플은 불변 객체이므로 요소 값을 한번 할당하면, 추가 , 수정 , 삭제가 불가능하다.\n",
    "* 이때 값을 재할당하면 값이 다시 입력될 수 있는데, <br>\n",
    "기존의 변수에 값이 재할당 되는 것이 아닌 , 새로운 변수가 생성되는것"
   ]
  }
 ],
 "metadata": {
  "kernelspec": {
   "display_name": "pylecture_env",
   "language": "python",
   "name": "python3"
  },
  "language_info": {
   "codemirror_mode": {
    "name": "ipython",
    "version": 3
   },
   "file_extension": ".py",
   "mimetype": "text/x-python",
   "name": "python",
   "nbconvert_exporter": "python",
   "pygments_lexer": "ipython3",
   "version": "3.12.7"
  }
 },
 "nbformat": 4,
 "nbformat_minor": 2
}
