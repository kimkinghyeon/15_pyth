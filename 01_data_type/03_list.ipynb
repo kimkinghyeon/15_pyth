{
 "cells": [
  {
   "cell_type": "markdown",
   "metadata": {},
   "source": [
    "# 03. 리스트(list)\n",
    "---\n",
    "## 03-01. 리스트 개요\n",
    "### 03-01-01. 리스트란?\n",
    "* 일련의 값이 모인 집합을 다루기 위한 자료형, python 은 배열과 같은 표현식을 쓰지만,\n",
    "일반적인 프로그래밍 언어와 다르게, 길이를 동적으로 조절 할 수 있어 list 라고 한다.\n",
    "\n",
    "# 03-01-02. 리스트 표현식\n",
    "리스트명 = ['값1'.'값2',...]"
   ]
  },
  {
   "cell_type": "code",
   "execution_count": 2,
   "metadata": {},
   "outputs": [],
   "source": [
    "리스트명 = ['값1','값2',...]"
   ]
  },
  {
   "cell_type": "markdown",
   "metadata": {},
   "source": [
    "* list 의 각 요소의 자료형은 무엇이든 될 수 있다. (서로다른 자료형이여도 괜찮다.)\n",
    "* list 에 저장되는 요소들은 0 부터 시작하는 인덱스 체계로 구분해서 저장된다."
   ]
  },
  {
   "cell_type": "code",
   "execution_count": 4,
   "metadata": {},
   "outputs": [
    {
     "name": "stdout",
     "output_type": "stream",
     "text": [
      "['orange', 1, 'apple', 'banana', 'kiwi', 'pear']\n",
      "1\n"
     ]
    }
   ],
   "source": [
    "fruits = ['orange',1,'apple','banana','kiwi','pear']\n",
    "\n",
    "print(fruits)\n",
    "print(fruits[1])"
   ]
  },
  {
   "cell_type": "markdown",
   "metadata": {},
   "source": [
    "### 03-01-03 문자열의 split()\n",
    "* 문자열을 구분자 기준으로분리하여 list 로 변환해주는 메서드"
   ]
  },
  {
   "cell_type": "code",
   "execution_count": 7,
   "metadata": {},
   "outputs": [
    {
     "name": "stdout",
     "output_type": "stream",
     "text": [
      "['빨', '주', '노', '초', '파', '남', '보']\n"
     ]
    }
   ],
   "source": [
    "rainbow = '빨-주-노-초-파-남-보'\n",
    "print(rainbow.split('-'))"
   ]
  },
  {
   "cell_type": "markdown",
   "metadata": {},
   "source": [
    "## 03-01-04. list() 메서드\n",
    "* 반복 가능한 객체를 받아서 각 요소를 리스트를 원소로 반환"
   ]
  },
  {
   "cell_type": "code",
   "execution_count": 38,
   "metadata": {},
   "outputs": [
    {
     "name": "stdout",
     "output_type": "stream",
     "text": [
      "True\n",
      "<class 'list'>\n",
      "<class 'list'>\n"
     ]
    }
   ],
   "source": [
    "list = [] # 빈 리;스트 생성\n",
    "list2 = list\n",
    "\n",
    "print(list == list2)\n",
    "print(type(list))\n",
    "print(type(list2))"
   ]
  },
  {
   "cell_type": "code",
   "execution_count": 40,
   "metadata": {},
   "outputs": [
    {
     "ename": "TypeError",
     "evalue": "list indices must be integers or slices, not str",
     "output_type": "error",
     "traceback": [
      "\u001b[1;31m---------------------------------------------------------------------------\u001b[0m",
      "\u001b[1;31mTypeError\u001b[0m                                 Traceback (most recent call last)",
      "Cell \u001b[1;32mIn[40], line 1\u001b[0m\n\u001b[1;32m----> 1\u001b[0m list3 \u001b[38;5;241m=\u001b[39m \u001b[38;5;28;43mlist\u001b[39;49m\u001b[43m[\u001b[49m\u001b[38;5;124;43m'\u001b[39;49m\u001b[38;5;124;43mhello\u001b[39;49m\u001b[38;5;124;43m'\u001b[39;49m\u001b[43m]\u001b[49m\n\u001b[0;32m      3\u001b[0m \u001b[38;5;28mprint\u001b[39m(list3)\n",
      "\u001b[1;31mTypeError\u001b[0m: list indices must be integers or slices, not str"
     ]
    }
   ],
   "source": [
    "list3 = list['hello']\n",
    "\n",
    "print(list3)"
   ]
  },
  {
   "cell_type": "markdown",
   "metadata": {},
   "source": [
    "---\n",
    "## 03-02. 리스트 연산"
   ]
  },
  {
   "cell_type": "code",
   "execution_count": 16,
   "metadata": {},
   "outputs": [],
   "source": [
    "safari_list = ['bear','koera','gorilla','squirrel']\n",
    "another_safri_list =['monkey','tiger','wolf']"
   ]
  },
  {
   "cell_type": "code",
   "execution_count": 18,
   "metadata": {},
   "outputs": [
    {
     "name": "stdout",
     "output_type": "stream",
     "text": [
      "['bear', 'koera', 'gorilla', 'squirrel', 'monkey', 'tiger', 'wolf']\n"
     ]
    }
   ],
   "source": [
    "print(safari_list + another_safri_list)"
   ]
  },
  {
   "cell_type": "markdown",
   "metadata": {},
   "source": [
    "## 03-02-02. 리스트 반복 :*\n",
    "* 리스트에 * 연산을 하면 요소를 반복할 수 있다."
   ]
  },
  {
   "cell_type": "code",
   "execution_count": 20,
   "metadata": {},
   "outputs": [
    {
     "name": "stdout",
     "output_type": "stream",
     "text": [
      "['bear', 'koera', 'gorilla', 'squirrel', 'bear', 'koera', 'gorilla', 'squirrel', 'bear', 'koera', 'gorilla', 'squirrel', 'bear', 'koera', 'gorilla', 'squirrel']\n"
     ]
    }
   ],
   "source": [
    "print(safari_list * 4)\n"
   ]
  },
  {
   "cell_type": "markdown",
   "metadata": {},
   "source": [
    "## 03-03. 리스트 메서드"
   ]
  },
  {
   "cell_type": "code",
   "execution_count": 26,
   "metadata": {},
   "outputs": [],
   "source": [
    "fruits = ['orange','apple','banana','kiwi','pear','apple']"
   ]
  },
  {
   "cell_type": "markdown",
   "metadata": {},
   "source": [
    "### index()\n",
    "* 배열에서 특정 요소의 인덱스 값을 구하는 메서드"
   ]
  },
  {
   "cell_type": "code",
   "execution_count": 23,
   "metadata": {},
   "outputs": [
    {
     "name": "stdout",
     "output_type": "stream",
     "text": [
      "index :  1\n"
     ]
    }
   ],
   "source": [
    "print('index : ',fruits.index('apple'))"
   ]
  },
  {
   "cell_type": "code",
   "execution_count": 24,
   "metadata": {},
   "outputs": [
    {
     "ename": "ValueError",
     "evalue": "'apple1' is not in list",
     "output_type": "error",
     "traceback": [
      "\u001b[1;31m---------------------------------------------------------------------------\u001b[0m",
      "\u001b[1;31mValueError\u001b[0m                                Traceback (most recent call last)",
      "Cell \u001b[1;32mIn[24], line 1\u001b[0m\n\u001b[1;32m----> 1\u001b[0m \u001b[38;5;28mprint\u001b[39m(\u001b[38;5;124m'\u001b[39m\u001b[38;5;124mindex : \u001b[39m\u001b[38;5;124m'\u001b[39m,\u001b[43mfruits\u001b[49m\u001b[38;5;241;43m.\u001b[39;49m\u001b[43mindex\u001b[49m\u001b[43m(\u001b[49m\u001b[38;5;124;43m'\u001b[39;49m\u001b[38;5;124;43mapple1\u001b[39;49m\u001b[38;5;124;43m'\u001b[39;49m\u001b[43m)\u001b[49m)\n",
      "\u001b[1;31mValueError\u001b[0m: 'apple1' is not in list"
     ]
    }
   ],
   "source": [
    "print('index : ',fruits.index('apple1'))"
   ]
  },
  {
   "cell_type": "code",
   "execution_count": 27,
   "metadata": {},
   "outputs": [
    {
     "name": "stdout",
     "output_type": "stream",
     "text": [
      "index :  5\n"
     ]
    }
   ],
   "source": [
    "# 두번째 매개변수에 인덱스를 주면 , 검색을 시작할 인덱스라는 의미를 갖음\n",
    "print('index : ',fruits.index('apple',3))"
   ]
  },
  {
   "cell_type": "markdown",
   "metadata": {},
   "source": [
    "## reverse()\n",
    "* 배열을 역순으로 바꿔준다."
   ]
  },
  {
   "cell_type": "code",
   "execution_count": 29,
   "metadata": {},
   "outputs": [
    {
     "name": "stdout",
     "output_type": "stream",
     "text": [
      "['orange', 'apple', 'banana', 'kiwi', 'pear', 'apple']\n",
      "['apple', 'pear', 'kiwi', 'banana', 'apple', 'orange']\n"
     ]
    }
   ],
   "source": [
    "print(fruits)\n",
    "\n",
    "fruits.reverse()\n",
    "\n",
    "print(fruits)"
   ]
  },
  {
   "cell_type": "markdown",
   "metadata": {},
   "source": [
    "## append()\n",
    "* 리스트의 끝에 새로운 요소를 추가하는 메서드"
   ]
  },
  {
   "cell_type": "code",
   "execution_count": 30,
   "metadata": {},
   "outputs": [
    {
     "name": "stdout",
     "output_type": "stream",
     "text": [
      "['apple', 'pear', 'kiwi', 'banana', 'apple', 'orange', 'pineapple']\n"
     ]
    }
   ],
   "source": [
    "fruits.append('pineapple')\n",
    "print(fruits)"
   ]
  },
  {
   "cell_type": "markdown",
   "metadata": {},
   "source": [
    "## extend()\n",
    "* 리스트의 끝에 다른 리스트의 요소를 추가"
   ]
  },
  {
   "cell_type": "code",
   "execution_count": 31,
   "metadata": {},
   "outputs": [
    {
     "name": "stdout",
     "output_type": "stream",
     "text": [
      "['apple', 'pear', 'kiwi', 'banana', 'apple', 'orange', 'pineapple', 'rainbow fruit', 'sweet lemon', 'happy aplle']\n"
     ]
    }
   ],
   "source": [
    "another_fruits = ['rainbow fruit','sweet lemon','happy aplle']\n",
    "fruits.extend(another_fruits)\n",
    "print(fruits)"
   ]
  },
  {
   "cell_type": "markdown",
   "metadata": {},
   "source": [
    "## insert()\n",
    "* 특정 위치에 요소를 삽입하는 메서드"
   ]
  },
  {
   "cell_type": "code",
   "execution_count": 32,
   "metadata": {},
   "outputs": [
    {
     "name": "stdout",
     "output_type": "stream",
     "text": [
      "['apple', 'monkey banana', 'pear', 'kiwi', 'banana', 'apple', 'orange', 'pineapple', 'rainbow fruit', 'sweet lemon', 'happy aplle']\n"
     ]
    }
   ],
   "source": [
    "fruits.insert(1,'monkey banana')\n",
    "print(fruits)"
   ]
  },
  {
   "cell_type": "markdown",
   "metadata": {},
   "source": [
    "## sort()\n",
    "* 리스트의 요소를 정렬할때 사용하는 메서드"
   ]
  },
  {
   "cell_type": "code",
   "execution_count": 35,
   "metadata": {},
   "outputs": [
    {
     "name": "stdout",
     "output_type": "stream",
     "text": [
      "['apple', 'apple', 'banana', 'happy aplle', 'kiwi', 'monkey banana', 'orange', 'pear', 'pineapple', 'rainbow fruit', 'sweet lemon']\n",
      "['sweet lemon', 'rainbow fruit', 'pineapple', 'pear', 'orange', 'monkey banana', 'kiwi', 'happy aplle', 'banana', 'apple', 'apple']\n",
      "['pear', 'kiwi', 'apple', 'apple', 'orange', 'banana', 'pineapple', 'sweet lemon', 'happy aplle', 'rainbow fruit', 'monkey banana']\n"
     ]
    }
   ],
   "source": [
    "# 기본정렬\n",
    "fruits.sort()\n",
    "print(fruits)\n",
    "\n",
    "# 내림차순\n",
    "fruits.sort(reverse=True)\n",
    "print(fruits)\n",
    "\n",
    "# 문자열 길이가 짧은 순\n",
    "fruits.sort(key=len)\n",
    "print(fruits)"
   ]
  },
  {
   "cell_type": "markdown",
   "metadata": {},
   "source": [
    "## remove()\n",
    "* 리스트에서 특정 값을 찾아 제거하는 메서드"
   ]
  },
  {
   "cell_type": "code",
   "execution_count": 36,
   "metadata": {},
   "outputs": [
    {
     "name": "stdout",
     "output_type": "stream",
     "text": [
      "['pear', 'apple', 'apple', 'orange', 'banana', 'pineapple', 'sweet lemon', 'happy aplle', 'rainbow fruit', 'monkey banana']\n"
     ]
    }
   ],
   "source": [
    "fruits.remove('kiwi')\n",
    "print(fruits)"
   ]
  },
  {
   "cell_type": "markdown",
   "metadata": {},
   "source": [
    "## pop()\n",
    "* 특정 위치에 있는 요소를 제거하고 반환하는 메서드\n",
    "* 인덱스를 지정하지 않으면 리스트의 마지막 요소를 제거하고 반환"
   ]
  },
  {
   "cell_type": "code",
   "execution_count": 37,
   "metadata": {},
   "outputs": [
    {
     "name": "stdout",
     "output_type": "stream",
     "text": [
      "pear\n",
      "['apple', 'apple', 'orange', 'banana', 'pineapple', 'sweet lemon', 'happy aplle', 'rainbow fruit', 'monkey banana']\n"
     ]
    }
   ],
   "source": [
    "temp = fruits.pop(0)\n",
    "print(temp)\n",
    "print(fruits)"
   ]
  },
  {
   "cell_type": "markdown",
   "metadata": {},
   "source": [
    "---\n",
    "# 03-05. del 키워드\n",
    "### 03-05-01. del\n",
    "* 객체를 삭제할때 사용되는 키워드\n",
    "* 리스트의 특정 요소를 삭제하거나 변수를 삭제할때 사용한다.\n"
   ]
  },
  {
   "cell_type": "code",
   "execution_count": 47,
   "metadata": {},
   "outputs": [
    {
     "name": "stdout",
     "output_type": "stream",
     "text": [
      "['a', 'b', 'c', 'd', 'e', 'f']\n"
     ]
    }
   ],
   "source": [
    "abc_list = ['a','b','c','d','e','f']\n",
    "# del abc_list[0] # 0 번째 인덱스 요소 제거\n",
    "# del abc_list[1:3] # 1번째 인덱스에서 3번째 전까지 제거\n",
    "# del abc_list[:] # 모든 요소 제거\n",
    "# del abc_list # list 자체를 제거해서 error 발생\n",
    "print(abc_list)"
   ]
  }
 ],
 "metadata": {
  "kernelspec": {
   "display_name": "pylecture_env",
   "language": "python",
   "name": "python3"
  },
  "language_info": {
   "codemirror_mode": {
    "name": "ipython",
    "version": 3
   },
   "file_extension": ".py",
   "mimetype": "text/x-python",
   "name": "python",
   "nbconvert_exporter": "python",
   "pygments_lexer": "ipython3",
   "version": "3.12.7"
  }
 },
 "nbformat": 4,
 "nbformat_minor": 2
}
